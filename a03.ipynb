{
 "cells": [
  {
   "cell_type": "markdown",
   "id": "1c11c80a",
   "metadata": {},
   "source": [
    "# Assignment 3: Convolutional Neural Networks"
   ]
  },
  {
   "cell_type": "code",
   "id": "21a4662b",
   "metadata": {
    "collapsed": false,
    "ExecuteTime": {
     "end_time": "2024-05-17T22:30:59.971310Z",
     "start_time": "2024-05-17T22:30:57.648114Z"
    }
   },
   "source": [
    "%matplotlib ipympl\n",
    "\n",
    "import torch\n",
    "from torch import nn, optim\n",
    "\n",
    "import torch.nn.functional as F\n",
    "import lightning as L\n",
    "from lightning.pytorch import seed_everything\n",
    "from lightning.pytorch.loggers import TensorBoardLogger\n",
    "from lightning.pytorch.callbacks import EarlyStopping\n",
    "from torchvision.datasets import CIFAR10\n",
    "from torchvision.transforms import v2\n",
    "from torch.utils.data import random_split, DataLoader\n",
    "import matplotlib.pyplot as plt\n",
    "from math import floor\n",
    "import sys, os\n",
    "\n",
    "sys.path.append(os.getcwd())\n",
    "from a03helper import *\n",
    "\n",
    "seed_everything(42)"
   ],
   "outputs": [
    {
     "name": "stderr",
     "output_type": "stream",
     "text": [
      "Seed set to 42\n"
     ]
    },
    {
     "name": "stdout",
     "output_type": "stream",
     "text": [
      "Warning: Cannot change to a different GUI toolkit: notebook. Using ipympl instead.\n"
     ]
    },
    {
     "data": {
      "text/plain": [
       "42"
      ]
     },
     "execution_count": 1,
     "metadata": {},
     "output_type": "execute_result"
    }
   ],
   "execution_count": 1
  },
  {
   "cell_type": "markdown",
   "id": "ef95c042",
   "metadata": {},
   "source": [
    "## Task 1: Simple CNN"
   ]
  },
  {
   "cell_type": "code",
   "id": "a4dda22f",
   "metadata": {
    "collapsed": false,
    "ExecuteTime": {
     "end_time": "2024-05-17T22:30:59.977783Z",
     "start_time": "2024-05-17T22:30:59.972381Z"
    }
   },
   "source": [
    "class ConvBlock(nn.Module):\n",
    "    \"\"\"A convolution block as used in the CS231n web demo.\"\"\"\n",
    "\n",
    "    def __init__(\n",
    "        self,\n",
    "        in_channels=3,\n",
    "        intermediate_channels=16,\n",
    "        out_channels=16,\n",
    "        conv_kernel_size=3,\n",
    "        pool_kernel_size=2,\n",
    "        activation_fn=F.relu,\n",
    "    ):\n",
    "        super().__init__()\n",
    "\n",
    "        # Define the individual layers here:\n",
    "        # First convolution:  self.conv1\n",
    "        # Second convolution: self.conv2\n",
    "        # Max-pooling:        self.pool\n",
    "        # (will be accessed by these names later on)\n",
    "        self.conv1 = nn.Conv2d(in_channels, intermediate_channels, kernel_size=conv_kernel_size, padding=\"same\")\n",
    "        self.conv2 = nn.Conv2d(intermediate_channels, out_channels, kernel_size=conv_kernel_size, padding=\"same\")\n",
    "        self.pool = nn.MaxPool2d(kernel_size=pool_kernel_size)\n",
    "        self.activation_fn = activation_fn\n",
    "\n",
    "        \n",
    "    def forward(self, x):\n",
    "        # Note that inputs have shape: batch size x channels x width x height\n",
    "        out = self.activation_fn(self.conv1(x))\n",
    "        out = self.activation_fn(self.conv2(out))\n",
    "        out = self.pool(out)\n",
    "        return out\n",
    "\n",
    "# Images of the CIFAR-10 dataset are of shape:\n",
    "# [color_channels, height, width] = [3, 32, 32]\n",
    "batch = torch.randn(2, 3, 32, 32)\n",
    "block = ConvBlock()\n",
    "batch_out = block(batch)\n",
    "print(batch_out.shape)\n",
    "\n",
    "# Should yield:\n",
    "# torch.Size([2, 16, 16, 16])"
   ],
   "outputs": [
    {
     "name": "stdout",
     "output_type": "stream",
     "text": [
      "torch.Size([2, 16, 16, 16])\n"
     ]
    }
   ],
   "execution_count": 2
  },
  {
   "cell_type": "code",
   "id": "4e64ea7d",
   "metadata": {
    "collapsed": false,
    "ExecuteTime": {
     "end_time": "2024-05-17T22:30:59.982436Z",
     "start_time": "2024-05-17T22:30:59.978517Z"
    }
   },
   "source": [
    "class SimpleCNN(nn.Module):\n",
    "    def __init__(\n",
    "        self,\n",
    "        num_conv_blocks=3,\n",
    "        conv_out_channels=16,\n",
    "        conv_kernel_size=3,\n",
    "        activation_fn=F.relu,\n",
    "    ):\n",
    "        super().__init__()\n",
    "        # Store conv blocks inside this module list (will used later). To do so, use the\n",
    "        # append() method.\n",
    "        self.conv_blocks = nn.ModuleList()\n",
    "        \n",
    "        in_channels = 3\n",
    "        \n",
    "        for _ in range(num_conv_blocks):\n",
    "            self.conv_blocks.append(\n",
    "                ConvBlock(in_channels=in_channels, intermediate_channels=conv_out_channels, out_channels=conv_out_channels)\n",
    "            )\n",
    "            in_channels = conv_out_channels\n",
    "        final_feature_size = 32 // (2 ** num_conv_blocks)\n",
    "        self.linear = nn.Linear(conv_out_channels * final_feature_size * final_feature_size, 10)\n",
    "\n",
    "\n",
    "    def forward(self, x):\n",
    "        # Output the softmax scores (i.e., do not apply the softmax function) for the\n",
    "        # images in the batch\n",
    "        for block in self.conv_blocks:\n",
    "            x = block(x)\n",
    "        x = x.view(x.size(0), -1)\n",
    "        out = self.linear(x)\n",
    "        return out"
   ],
   "outputs": [],
   "execution_count": 3
  },
  {
   "cell_type": "code",
   "id": "f4f8d03c",
   "metadata": {
    "collapsed": false,
    "ExecuteTime": {
     "end_time": "2024-05-17T22:31:00.620804Z",
     "start_time": "2024-05-17T22:31:00.613725Z"
    }
   },
   "source": [
    "# Test your implementation\n",
    "model = SimpleCNN()\n",
    "batch = torch.randn(2, 3, 32, 32)\n",
    "batch_out = model(batch)\n",
    "print(batch_out)\n",
    "\n",
    "\n",
    "# Should yield an ouput such as:\n",
    "# tensor([[-0.0433, -0.0400,  0.0532,  0.0348, -0.0274,  0.0176, -0.0505,  0.0557,\n",
    "#           0.0335,  0.0585],\n",
    "#         [-0.0425, -0.0385,  0.0518,  0.0349, -0.0263,  0.0188, -0.0502,  0.0548,\n",
    "#           0.0329,  0.0582]], grad_fn=<AddmmBackward0>)"
   ],
   "outputs": [
    {
     "name": "stdout",
     "output_type": "stream",
     "text": [
      "tensor([[ 0.0192, -0.0786,  0.0456, -0.0245,  0.0561, -0.0086,  0.0115,  0.0333,\n",
      "         -0.0017, -0.0062],\n",
      "        [ 0.0184, -0.0787,  0.0457, -0.0230,  0.0546, -0.0095,  0.0117,  0.0332,\n",
      "         -0.0004, -0.0061]], grad_fn=<AddmmBackward0>)\n"
     ]
    }
   ],
   "execution_count": 4
  },
  {
   "cell_type": "markdown",
   "id": "5989a65e",
   "metadata": {},
   "source": [
    "## Task 2: Lightning"
   ]
  },
  {
   "cell_type": "code",
   "id": "c12ca13e",
   "metadata": {
    "collapsed": false,
    "ExecuteTime": {
     "end_time": "2024-05-17T22:31:02.355361Z",
     "start_time": "2024-05-17T22:31:02.350474Z"
    }
   },
   "source": [
    "class LitBaseCNN(L.LightningModule):\n",
    "    def __init__(self, lr=0.001, **kwargs):\n",
    "        super().__init__()\n",
    "        self.model = self.initialize_model(**kwargs)\n",
    "        self.lr = lr\n",
    "\n",
    "    def initialize_model(self, **kwargs):\n",
    "        \"\"\"\n",
    "        This method will be implemented later on. Do not change.\n",
    "        \"\"\"\n",
    "        raise NotImplementedError(\"method 'initialize_model' not implemented\")\n",
    "\n",
    "    def configure_optimizers(self):\n",
    "        optimizer = torch.optim.Adam(self.parameters(), lr=self.lr)\n",
    "        return optimizer\n",
    "    \n",
    "    def training_step(self, batch, batch_idx):\n",
    "        # In addition to returning the training loss, also log it as 'train_loss'.\n",
    "        images, targets = batch\n",
    "        outputs = self.model(images)\n",
    "        loss = F.cross_entropy(outputs, targets)\n",
    "        self.log(\"train_loss\", loss)\n",
    "        return loss\n",
    "\n",
    "    def validation_step(self, batch, batch_idx):\n",
    "        return self._eval(batch, mode=\"val\")\n",
    "\n",
    "    def test_step(self, batch, batch_idx):\n",
    "        return self._eval(batch, \"test\")\n",
    "\n",
    "    def _eval(self, batch, mode=\"val\"):\n",
    "        \"\"\"\n",
    "        This method is used both for validation and testing\n",
    "        (cf. validation_step and test_step).\n",
    "        \"\"\"\n",
    "        # Log the loss as `{mode}_loss`, the accuracy as\n",
    "        # `{mode}_acc` and additionally as `hp_metric`.\n",
    "        images, targets = batch\n",
    "        outputs = self.model(images)\n",
    "        loss = F.cross_entropy(outputs, targets)\n",
    "        _, predicted = torch.max(outputs.data, 1)\n",
    "        correct = (predicted == targets).sum().item()\n",
    "        accuracy = correct / targets.size(0)\n",
    "        self.log(f'{mode}_loss', loss, prog_bar=True)\n",
    "        self.log(f'{mode}_acc', accuracy, prog_bar=True)\n",
    "        self.log('hp_metric', accuracy, prog_bar=True)\n",
    "        return loss"
   ],
   "outputs": [],
   "execution_count": 5
  },
  {
   "cell_type": "code",
   "id": "354267c5",
   "metadata": {
    "collapsed": false,
    "ExecuteTime": {
     "end_time": "2024-05-17T22:31:02.873288Z",
     "start_time": "2024-05-17T22:31:02.870874Z"
    }
   },
   "source": [
    "class LitSimpleCNN(LitBaseCNN):\n",
    "    def initialize_model(\n",
    "        self,\n",
    "        num_conv_blocks=3,\n",
    "        conv_out_channels=16,\n",
    "        conv_kernel_size=3,\n",
    "        activation_fn=F.relu,\n",
    "    ):\n",
    "        return SimpleCNN(\n",
    "            num_conv_blocks, conv_out_channels, conv_kernel_size, activation_fn\n",
    "        )"
   ],
   "outputs": [],
   "execution_count": 6
  },
  {
   "cell_type": "code",
   "id": "dbcc8007",
   "metadata": {
    "collapsed": false,
    "ExecuteTime": {
     "end_time": "2024-05-17T22:31:03.655103Z",
     "start_time": "2024-05-17T22:31:03.650448Z"
    }
   },
   "source": [
    "simple_cnn = LitSimpleCNN(num_conv_blocks=2, conv_out_channels=16)\n",
    "print(simple_cnn)\n",
    "\n",
    "# Should produce:\n",
    "# LitSimpleCNN(\n",
    "#   (model): SimpleCNN(\n",
    "#     (conv_blocks): ModuleList(\n",
    "#       (0): ConvBlock(\n",
    "#         (conv1): Conv2d(3, 16, kernel_size=(3, 3), stride=(1, 1), padding=same)\n",
    "#         (conv2): Conv2d(16, 16, kernel_size=(3, 3), stride=(1, 1), padding=same)\n",
    "#         (pool): MaxPool2d(kernel_size=2, stride=2, padding=0, dilation=1, ceil_mode=False)\n",
    "#       )\n",
    "#       (1): ConvBlock(\n",
    "#         (conv1): Conv2d(16, 16, kernel_size=(3, 3), stride=(1, 1), padding=same)\n",
    "#         (conv2): Conv2d(16, 16, kernel_size=(3, 3), stride=(1, 1), padding=same)\n",
    "#         (pool): MaxPool2d(kernel_size=2, stride=2, padding=0, dilation=1, ceil_mode=False)\n",
    "#       )\n",
    "#     )\n",
    "#     (linear): Linear(in_features=1024, out_features=10, bias=True)\n",
    "#   )\n",
    "# )"
   ],
   "outputs": [
    {
     "name": "stdout",
     "output_type": "stream",
     "text": [
      "LitSimpleCNN(\n",
      "  (model): SimpleCNN(\n",
      "    (conv_blocks): ModuleList(\n",
      "      (0): ConvBlock(\n",
      "        (conv1): Conv2d(3, 16, kernel_size=(3, 3), stride=(1, 1), padding=same)\n",
      "        (conv2): Conv2d(16, 16, kernel_size=(3, 3), stride=(1, 1), padding=same)\n",
      "        (pool): MaxPool2d(kernel_size=2, stride=2, padding=0, dilation=1, ceil_mode=False)\n",
      "      )\n",
      "      (1): ConvBlock(\n",
      "        (conv1): Conv2d(16, 16, kernel_size=(3, 3), stride=(1, 1), padding=same)\n",
      "        (conv2): Conv2d(16, 16, kernel_size=(3, 3), stride=(1, 1), padding=same)\n",
      "        (pool): MaxPool2d(kernel_size=2, stride=2, padding=0, dilation=1, ceil_mode=False)\n",
      "      )\n",
      "    )\n",
      "    (linear): Linear(in_features=1024, out_features=10, bias=True)\n",
      "  )\n",
      ")\n"
     ]
    }
   ],
   "execution_count": 7
  },
  {
   "cell_type": "code",
   "id": "3116dcd9",
   "metadata": {
    "collapsed": false,
    "ExecuteTime": {
     "end_time": "2024-05-17T22:31:04.085138Z",
     "start_time": "2024-05-17T22:31:04.079626Z"
    }
   },
   "source": [
    "# This is how to use the model manually\n",
    "# (alternatively, implement a forward() method, see\n",
    "# https://lightning.ai/docs/pytorch/stable/common/lightning_module.html#inference-in-research ).\n",
    "batch = torch.randn(2, 3, 32, 32)\n",
    "model = LitSimpleCNN().model\n",
    "batch_out = model(batch)\n",
    "print(batch_out)\n",
    "\n",
    "# Should yield:\n",
    "# tensor([[ 0.0347,  0.0706,  0.0101, -0.0390,  0.0411, -0.0452, -0.0055,  0.0297,\n",
    "#          -0.0663, -0.0240],\n",
    "#         [ 0.0339,  0.0697,  0.0110, -0.0393,  0.0408, -0.0444, -0.0060,  0.0294,\n",
    "#          -0.0650, -0.0240]], grad_fn=<AddmmBackward0>)"
   ],
   "outputs": [
    {
     "name": "stdout",
     "output_type": "stream",
     "text": [
      "tensor([[ 0.0347,  0.0706,  0.0101, -0.0390,  0.0411, -0.0452, -0.0055,  0.0297,\n",
      "         -0.0663, -0.0240],\n",
      "        [ 0.0339,  0.0697,  0.0110, -0.0393,  0.0408, -0.0444, -0.0060,  0.0294,\n",
      "         -0.0650, -0.0240]], grad_fn=<AddmmBackward0>)\n"
     ]
    }
   ],
   "execution_count": 8
  },
  {
   "cell_type": "code",
   "id": "7e1215ba",
   "metadata": {
    "collapsed": false,
    "ExecuteTime": {
     "end_time": "2024-05-17T22:31:06.726604Z",
     "start_time": "2024-05-17T22:31:04.576977Z"
    }
   },
   "source": [
    "class CifarDataModule(L.LightningDataModule):\n",
    "    def __init__(self, data_dir=\"raw\", batch_size=32, num_workers=0):\n",
    "        super().__init__()\n",
    "        self.data_dir = data_dir\n",
    "        self.batch_size = batch_size\n",
    "        self.num_workers = num_workers\n",
    "\n",
    "    def prepare_data(self):\n",
    "        # This downloads the data if not yet present, but does not yet associate it with\n",
    "        # this module (see documentation).\n",
    "        CIFAR10(self.data_dir, train=True, download=True)\n",
    "        CIFAR10(self.data_dir, train=False, download=True)\n",
    "\n",
    "    def setup(self, stage: str):\n",
    "        transforms = v2.Compose(\n",
    "            [\n",
    "                v2.ToImage(),\n",
    "                v2.ToDtype(torch.float32, scale=True),\n",
    "                v2.Normalize(\n",
    "                    (0.4913, 0.4821, 0.4465),\n",
    "                    (0.2470, 0.2434, 0.2615),\n",
    "                ),\n",
    "            ]\n",
    "        )\n",
    "\n",
    "        if stage == \"fit\":\n",
    "            # This loads the training data\n",
    "            cifar_train = CIFAR10(self.data_dir, True, transforms)\n",
    "\n",
    "            # Split training data into 80% training and 20% validation data and assign\n",
    "            # to self.train_data and self.val_data\n",
    "            train_len = int(0.8 * len(cifar_train))\n",
    "            val_len = len(cifar_train) - train_len\n",
    "            self.train_data, self.val_data = random_split(cifar_train, [train_len, val_len])            \n",
    "            \n",
    "        elif stage == \"test\":\n",
    "            # This loads the test data\n",
    "            self.test_data = CIFAR10(self.data_dir, False, transforms)\n",
    "\n",
    "    def train_dataloader(self):\n",
    "        # Return train dataloader with `self.batch_size` and `self.num_workers`\n",
    "        # and shuffling enabled.\n",
    "        return DataLoader(self.train_data, batch_size=self.batch_size, num_workers=self.num_workers, shuffle=True)\n",
    "\n",
    "    def val_dataloader(self):\n",
    "        # Return validation dataloader with `self.batch_size` and `self.num_workers`.\n",
    "        return DataLoader(self.val_data, batch_size=self.batch_size, num_workers=self.num_workers)\n",
    "    \n",
    "    def test_dataloader(self):\n",
    "        # Return test dataloader with `self.batch_size` and `self.num_workers`.\n",
    "        return DataLoader(self.test_data, batch_size=self.batch_size, num_workers=self.num_workers)\n",
    "\n",
    "dm = CifarDataModule()\n",
    "dm.prepare_data()\n",
    "dm.setup(\"fit\")\n",
    "print(len(dm.train_dataloader().dataset))\n",
    "# Should yield:\n",
    "# 40000"
   ],
   "outputs": [
    {
     "name": "stdout",
     "output_type": "stream",
     "text": [
      "Files already downloaded and verified\n",
      "Files already downloaded and verified\n",
      "40000\n"
     ]
    }
   ],
   "execution_count": 9
  },
  {
   "cell_type": "markdown",
   "id": "cb03c5da",
   "metadata": {},
   "source": [
    "## Task 3: Training with Lightning and TensorBoard"
   ]
  },
  {
   "cell_type": "code",
   "id": "4a9454f4",
   "metadata": {
    "collapsed": false,
    "ExecuteTime": {
     "end_time": "2024-05-17T22:31:08.175286Z",
     "start_time": "2024-05-17T22:31:08.165900Z"
    }
   },
   "source": [
    "# Define hyperparameters (hp) and initialize modules\n",
    "model_hp = dict(\n",
    "    num_conv_blocks=3,\n",
    "    conv_out_channels=16,\n",
    "    conv_kernel_size=5,\n",
    "    activation_fn=F.relu,\n",
    "    lr=0.001,\n",
    ")\n",
    "other_hp = dict(\n",
    "    batch_size=32,\n",
    "    max_epochs=4,\n",
    ")\n",
    "simple_cnn = LitSimpleCNN(**model_hp)\n",
    "dm = CifarDataModule(batch_size=other_hp[\"batch_size\"])"
   ],
   "outputs": [],
   "execution_count": 10
  },
  {
   "cell_type": "code",
   "id": "b25ad78c",
   "metadata": {
    "collapsed": false,
    "ExecuteTime": {
     "end_time": "2024-05-17T22:31:08.633793Z",
     "start_time": "2024-05-17T22:31:08.571605Z"
    }
   },
   "source": [
    "# Log hyperparameters using TensorBoard\n",
    "logger = TensorBoardLogger(\n",
    "    save_dir=\"logs\", name=\"simple_cnn\"\n",
    ")  # do not change location in JHub\n",
    "logger.log_hyperparams({**model_hp, **other_hp})"
   ],
   "outputs": [],
   "execution_count": 11
  },
  {
   "cell_type": "code",
   "id": "f7cb9614",
   "metadata": {
    "collapsed": false,
    "ExecuteTime": {
     "end_time": "2024-05-17T22:31:09.056687Z",
     "start_time": "2024-05-17T22:31:08.950961Z"
    }
   },
   "source": [
    "# Create a trainer\n",
    "#Optional. Check out the documentation of the Lightning Trainer and tweak your training setup by trying out different settings.\n",
    "\n",
    "trainer = L.Trainer(\n",
    "    deterministic=True,\n",
    "    fast_dev_run=False,  # change this to False for actual training\n",
    "    max_epochs=other_hp[\"max_epochs\"],\n",
    "    logger=logger,\n",
    "    check_val_every_n_epoch=1,    \n",
    "    # add early stopping    \n",
    "    callbacks=[EarlyStopping(monitor='val_acc', patience=2)]\n",
    ")"
   ],
   "outputs": [
    {
     "name": "stderr",
     "output_type": "stream",
     "text": [
      "GPU available: True (mps), used: True\n",
      "TPU available: False, using: 0 TPU cores\n",
      "IPU available: False, using: 0 IPUs\n",
      "HPU available: False, using: 0 HPUs\n"
     ]
    }
   ],
   "execution_count": 12
  },
  {
   "cell_type": "code",
   "id": "3c55db5d",
   "metadata": {
    "collapsed": false,
    "ExecuteTime": {
     "end_time": "2024-05-17T22:32:29.942953Z",
     "start_time": "2024-05-17T22:31:09.783175Z"
    }
   },
   "source": [
    "# And run it\n",
    "trainer.fit(simple_cnn, datamodule=dm)\n",
    "# Should yield an accuracy of 65 % after 4 epochs."
   ],
   "outputs": [
    {
     "name": "stdout",
     "output_type": "stream",
     "text": [
      "Files already downloaded and verified\n",
      "Files already downloaded and verified\n"
     ]
    },
    {
     "name": "stderr",
     "output_type": "stream",
     "text": [
      "\n",
      "  | Name  | Type      | Params\n",
      "------------------------------------\n",
      "0 | model | SimpleCNN | 14.6 K\n",
      "------------------------------------\n",
      "14.6 K    Trainable params\n",
      "0         Non-trainable params\n",
      "14.6 K    Total params\n",
      "0.058     Total estimated model params size (MB)\n"
     ]
    },
    {
     "data": {
      "text/plain": [
       "Sanity Checking: |          | 0/? [00:00<?, ?it/s]"
      ],
      "application/vnd.jupyter.widget-view+json": {
       "version_major": 2,
       "version_minor": 0,
       "model_id": "d8bceb734eea4ac2b248029a5326cbaa"
      }
     },
     "metadata": {},
     "output_type": "display_data"
    },
    {
     "name": "stderr",
     "output_type": "stream",
     "text": [
      "/Users/ngkokteng/PycharmProjects/Deep Learning/.venv/lib/python3.9/site-packages/lightning/pytorch/trainer/connectors/data_connector.py:441: The 'val_dataloader' does not have many workers which may be a bottleneck. Consider increasing the value of the `num_workers` argument` to `num_workers=9` in the `DataLoader` to improve performance.\n",
      "/Users/ngkokteng/PycharmProjects/Deep Learning/.venv/lib/python3.9/site-packages/lightning/pytorch/trainer/connectors/data_connector.py:441: The 'train_dataloader' does not have many workers which may be a bottleneck. Consider increasing the value of the `num_workers` argument` to `num_workers=9` in the `DataLoader` to improve performance.\n"
     ]
    },
    {
     "data": {
      "text/plain": [
       "Training: |          | 0/? [00:00<?, ?it/s]"
      ],
      "application/vnd.jupyter.widget-view+json": {
       "version_major": 2,
       "version_minor": 0,
       "model_id": "7a85cc8a4b16413cb68f13a3920e37d4"
      }
     },
     "metadata": {},
     "output_type": "display_data"
    },
    {
     "data": {
      "text/plain": [
       "Validation: |          | 0/? [00:00<?, ?it/s]"
      ],
      "application/vnd.jupyter.widget-view+json": {
       "version_major": 2,
       "version_minor": 0,
       "model_id": "574d4d63609b4e349923f8f556ebd789"
      }
     },
     "metadata": {},
     "output_type": "display_data"
    },
    {
     "data": {
      "text/plain": [
       "Validation: |          | 0/? [00:00<?, ?it/s]"
      ],
      "application/vnd.jupyter.widget-view+json": {
       "version_major": 2,
       "version_minor": 0,
       "model_id": "37b1b44c020b4dcd8996f0a785752431"
      }
     },
     "metadata": {},
     "output_type": "display_data"
    },
    {
     "data": {
      "text/plain": [
       "Validation: |          | 0/? [00:00<?, ?it/s]"
      ],
      "application/vnd.jupyter.widget-view+json": {
       "version_major": 2,
       "version_minor": 0,
       "model_id": "be281cf93d2b4c80a0f6d3444e0e59dd"
      }
     },
     "metadata": {},
     "output_type": "display_data"
    }
   ],
   "execution_count": 13
  },
  {
   "cell_type": "markdown",
   "id": "6988d7d4",
   "metadata": {},
   "source": [
    "### TensorBoard\n",
    "\n",
    "There are a few options to run TensorBoard depending on your environment.\n",
    "\n",
    "#### Jupyter Hub\n",
    "\n",
    "Open up a new tab inside JupyterHub. Then, open TensorBoard.\n",
    "\n",
    "#### Local environment\n",
    "\n",
    "Open a shell inside this directory. Run:\n",
    "\n",
    "```sh\n",
    "tensorboard --logdir logs\n",
    "```\n",
    "\n",
    "Then, open your browser and navigate to: [http://localhost:6006](http://localhost:6006)\n",
    "\n",
    "#### Docker Container\n",
    "\n",
    "Open a shell inside your running container:\n",
    "\n",
    "```sh\n",
    "docker exec -it <container> /bin/bash\n",
    "```\n",
    "where the container can be identified using `docker ps`. From there, proceed as\n",
    "in a local environment (see above).\n",
    "\n",
    "#### Inside Jupyter (but not on Jupyter Hub)\n",
    "\n",
    "Create a new code cell with the following contents and execute:\n",
    "\n",
    "```sh\n",
    "%load_ext tensorboard\n",
    "%tensorboard --logdir logs\n",
    "```"
   ]
  },
  {
   "cell_type": "code",
   "id": "7859c173",
   "metadata": {
    "collapsed": false,
    "ExecuteTime": {
     "end_time": "2024-05-17T22:32:34.808825Z",
     "start_time": "2024-05-17T22:32:29.944619Z"
    }
   },
   "source": [
    "# This is how you would use the test dataset (after you are done with your model\n",
    "# selection):\n",
    "trainer.test(simple_cnn, datamodule=dm)"
   ],
   "outputs": [
    {
     "name": "stdout",
     "output_type": "stream",
     "text": [
      "Files already downloaded and verified\n",
      "Files already downloaded and verified\n"
     ]
    },
    {
     "name": "stderr",
     "output_type": "stream",
     "text": [
      "/Users/ngkokteng/PycharmProjects/Deep Learning/.venv/lib/python3.9/site-packages/lightning/pytorch/trainer/connectors/data_connector.py:441: The 'test_dataloader' does not have many workers which may be a bottleneck. Consider increasing the value of the `num_workers` argument` to `num_workers=9` in the `DataLoader` to improve performance.\n"
     ]
    },
    {
     "data": {
      "text/plain": [
       "Testing: |          | 0/? [00:00<?, ?it/s]"
      ],
      "application/vnd.jupyter.widget-view+json": {
       "version_major": 2,
       "version_minor": 0,
       "model_id": "70714fa9d8b1439990c02f2e480a2226"
      }
     },
     "metadata": {},
     "output_type": "display_data"
    },
    {
     "name": "stdout",
     "output_type": "stream",
     "text": [
      "────────────────────────────────────────────────────────────────────────────────────────────────────────────────────────\n",
      "       Test metric             DataLoader 0\n",
      "────────────────────────────────────────────────────────────────────────────────────────────────────────────────────────\n",
      "        hp_metric           0.5968000292778015\n",
      "        test_acc            0.5968000292778015\n",
      "        test_loss           1.1287577152252197\n",
      "────────────────────────────────────────────────────────────────────────────────────────────────────────────────────────\n"
     ]
    },
    {
     "data": {
      "text/plain": [
       "[{'test_loss': 1.1287577152252197,\n",
       "  'test_acc': 0.5968000292778015,\n",
       "  'hp_metric': 0.5968000292778015}]"
      ]
     },
     "execution_count": 14,
     "metadata": {},
     "output_type": "execute_result"
    }
   ],
   "execution_count": 14
  },
  {
   "cell_type": "markdown",
   "id": "2d24657d",
   "metadata": {},
   "source": [
    "## Task 4: Visualization\n",
    "model = LitSimpleCNN.load_from_checkpoint(\n",
    "    os.path.join(\"checkpoints\", \"simple-cnn.ckpt\"),\n",
    "    num_conv_blocks=2,\n",
    "    conv_out_channels=30,\n",
    "    conv_kernel_size=4,\n",
    "    lr=0.001,\n",
    ")\n",
    "trainer.test(model, datamodule=dm)"
   ]
  },
  {
   "cell_type": "code",
   "id": "b3a0ff26",
   "metadata": {
    "collapsed": false,
    "ExecuteTime": {
     "end_time": "2024-05-17T22:32:35.480234Z",
     "start_time": "2024-05-17T22:32:34.809567Z"
    }
   },
   "source": [
    "# Obtain images from CIFAR-10 dataset\n",
    "dm.setup(\"fit\")\n",
    "train_data = dm.train_data\n",
    "\n",
    "# Plot the first 12 images\n",
    "fig, axs = plt.subplots(nrows=3, ncols=4)\n",
    "for i in range(12):\n",
    "    row = floor(i / 4)\n",
    "    col = i % 4\n",
    "    axs[row, col].imshow(train_data[i][0].permute(1, 2, 0))\n",
    "    axs[row, col].set_title(i)\n",
    "    axs[row, col].axis(\"off\")"
   ],
   "outputs": [
    {
     "name": "stderr",
     "output_type": "stream",
     "text": [
      "Clipping input data to the valid range for imshow with RGB data ([0..1] for floats or [0..255] for integers).\n",
      "Clipping input data to the valid range for imshow with RGB data ([0..1] for floats or [0..255] for integers).\n",
      "Clipping input data to the valid range for imshow with RGB data ([0..1] for floats or [0..255] for integers).\n",
      "Clipping input data to the valid range for imshow with RGB data ([0..1] for floats or [0..255] for integers).\n",
      "Clipping input data to the valid range for imshow with RGB data ([0..1] for floats or [0..255] for integers).\n",
      "Clipping input data to the valid range for imshow with RGB data ([0..1] for floats or [0..255] for integers).\n",
      "Clipping input data to the valid range for imshow with RGB data ([0..1] for floats or [0..255] for integers).\n",
      "Clipping input data to the valid range for imshow with RGB data ([0..1] for floats or [0..255] for integers).\n",
      "Clipping input data to the valid range for imshow with RGB data ([0..1] for floats or [0..255] for integers).\n",
      "Clipping input data to the valid range for imshow with RGB data ([0..1] for floats or [0..255] for integers).\n",
      "Clipping input data to the valid range for imshow with RGB data ([0..1] for floats or [0..255] for integers).\n",
      "Clipping input data to the valid range for imshow with RGB data ([0..1] for floats or [0..255] for integers).\n"
     ]
    },
    {
     "data": {
      "text/plain": [
       "Canvas(toolbar=Toolbar(toolitems=[('Home', 'Reset original view', 'home', 'home'), ('Back', 'Back to previous …"
      ],
      "image/png": "[encoded data removed]",
      "text/html": [
       "\n",
       "            <div style=\"display: inline-block;\">\n",
       "                <div class=\"jupyter-widgets widget-label\" style=\"text-align: center;\">\n",
       "                    Figure\n",
       "                </div>\n",
       "                <img src='data:image/png;base64,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' width=640.0/>\n",
       "            </div>\n",
       "        "
      ],
      "application/vnd.jupyter.widget-view+json": {
       "version_major": 2,
       "version_minor": 0,
       "model_id": "a7e4d83f83454e98b37f1039aa0495b4"
      }
     },
     "metadata": {},
     "output_type": "display_data"
    }
   ],
   "execution_count": 15
  },
  {
   "cell_type": "code",
   "id": "ec2f717e",
   "metadata": {
    "collapsed": false,
    "ExecuteTime": {
     "end_time": "2024-05-17T22:32:46.225238Z",
     "start_time": "2024-05-17T22:32:45.973805Z"
    }
   },
   "source": [
    "# Obtain first block's output of a single image and plot\n",
    "item, label = train_data[7]  # choose the image that you find most promising to analyze\n",
    "block0 = simple_cnn.model.conv_blocks[0].cpu()\n",
    "with torch.no_grad():\n",
    "    out0 = block0(item)\n",
    "plot_conv_module_output(out0)"
   ],
   "outputs": [
    {
     "data": {
      "text/plain": [
       "Canvas(toolbar=Toolbar(toolitems=[('Home', 'Reset original view', 'home', 'home'), ('Back', 'Back to previous …"
      ],
      "image/png": "[encoded data removed]",
      "text/html": [
       "\n",
       "            <div style=\"display: inline-block;\">\n",
       "                <div class=\"jupyter-widgets widget-label\" style=\"text-align: center;\">\n",
       "                    Figure\n",
       "                </div>\n",
       "                <img src='data:image/png;base64,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' width=640.0/>\n",
       "            </div>\n",
       "        "
      ],
      "application/vnd.jupyter.widget-view+json": {
       "version_major": 2,
       "version_minor": 0,
       "model_id": "2377f12243894fc09f70fa12a1cc5362"
      }
     },
     "metadata": {},
     "output_type": "display_data"
    }
   ],
   "execution_count": 16
  },
  {
   "cell_type": "code",
   "id": "459e216c",
   "metadata": {
    "collapsed": false,
    "ExecuteTime": {
     "end_time": "2024-05-17T22:32:49.220172Z",
     "start_time": "2024-05-17T22:32:49.088055Z"
    }
   },
   "source": [
    "# Obtain second's block output for the same image and plot\n",
    "block1 = simple_cnn.model.conv_blocks[1].cpu()\n",
    "with torch.no_grad():\n",
    "    out1 = block1(out0)\n",
    "plot_conv_module_output(out1)"
   ],
   "outputs": [
    {
     "data": {
      "text/plain": [
       "Canvas(toolbar=Toolbar(toolitems=[('Home', 'Reset original view', 'home', 'home'), ('Back', 'Back to previous …"
      ],
      "image/png": "[encoded data removed]",
      "text/html": [
       "\n",
       "            <div style=\"display: inline-block;\">\n",
       "                <div class=\"jupyter-widgets widget-label\" style=\"text-align: center;\">\n",
       "                    Figure\n",
       "                </div>\n",
       "                <img src='data:image/png;base64,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' width=640.0/>\n",
       "            </div>\n",
       "        "
      ],
      "application/vnd.jupyter.widget-view+json": {
       "version_major": 2,
       "version_minor": 0,
       "model_id": "29374c84833b4223b214d921d5a1baf2"
      }
     },
     "metadata": {},
     "output_type": "display_data"
    }
   ],
   "execution_count": 17
  },
  {
   "cell_type": "code",
   "id": "1c8e0f2d",
   "metadata": {
    "collapsed": false,
    "ExecuteTime": {
     "end_time": "2024-05-17T22:32:59.697173Z",
     "start_time": "2024-05-17T22:32:59.228113Z"
    }
   },
   "source": [
    "# Plot filters from first convolutional layer (columns refer to input channels, rows\n",
    "# output channels)\n",
    "conv1 = block0.conv1.weight.detach()\n",
    "plot_kernels(conv1)"
   ],
   "outputs": [
    {
     "data": {
      "text/plain": [
       "Canvas(toolbar=Toolbar(toolitems=[('Home', 'Reset original view', 'home', 'home'), ('Back', 'Back to previous …"
      ],
      "image/png": "[encoded data removed]",
      "text/html": [
       "\n",
       "            <div style=\"display: inline-block;\">\n",
       "                <div class=\"jupyter-widgets widget-label\" style=\"text-align: center;\">\n",
       "                    Figure\n",
       "                </div>\n",
       "                <img src='data:image/png;base64,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' width=640.0/>\n",
       "            </div>\n",
       "        "
      ],
      "application/vnd.jupyter.widget-view+json": {
       "version_major": 2,
       "version_minor": 0,
       "model_id": "c6b120532c0e47f4b7e7ee208c293521"
      }
     },
     "metadata": {},
     "output_type": "display_data"
    }
   ],
   "execution_count": 19
  },
  {
   "cell_type": "code",
   "id": "2a308a0c",
   "metadata": {
    "collapsed": false,
    "ExecuteTime": {
     "end_time": "2024-05-17T22:33:11.620136Z",
     "start_time": "2024-05-17T22:33:09.773974Z"
    }
   },
   "source": [
    "# Plot filters from second convolutional layer\n",
    "conv1 = block0.conv2.weight.detach()\n",
    "plot_kernels(conv1)"
   ],
   "outputs": [
    {
     "data": {
      "text/plain": [
       "Canvas(toolbar=Toolbar(toolitems=[('Home', 'Reset original view', 'home', 'home'), ('Back', 'Back to previous …"
      ],
      "image/png": "[encoded data removed]",
      "text/html": [
       "\n",
       "            <div style=\"display: inline-block;\">\n",
       "                <div class=\"jupyter-widgets widget-label\" style=\"text-align: center;\">\n",
       "                    Figure\n",
       "                </div>\n",
       "                <img src='data:image/png;base64,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' width=640.0/>\n",
       "            </div>\n",
       "        "
      ],
      "application/vnd.jupyter.widget-view+json": {
       "version_major": 2,
       "version_minor": 0,
       "model_id": "cdc396a5407949d9a4e1f56b4a846a9e"
      }
     },
     "metadata": {},
     "output_type": "display_data"
    }
   ],
   "execution_count": 20
  },
  {
   "cell_type": "markdown",
   "id": "72808939",
   "metadata": {},
   "source": [
    "## Task 5: ConvNeXt"
   ]
  },
  {
   "cell_type": "code",
   "id": "fd3a8e27",
   "metadata": {
    "collapsed": false,
    "ExecuteTime": {
     "end_time": "2024-05-17T22:43:56.019856Z",
     "start_time": "2024-05-17T22:43:56.013621Z"
    }
   },
   "source": [
    "class LayerNormChannels(nn.Module):\n",
    "    \"\"\"Utility module for the layer norms.\"\"\"\n",
    "\n",
    "    def __init__(self, C):\n",
    "        super().__init__()\n",
    "        self.norm = nn.LayerNorm(C)\n",
    "\n",
    "    def forward(self, x):\n",
    "        x1 = x.transpose(1, -1)\n",
    "        x2 = self.norm(x1)\n",
    "        x3 = x2.transpose(-1, 1)\n",
    "        return x3\n",
    "\n",
    "\n",
    "batch = torch.randn(2, 3, 32, 32)\n",
    "norm_module = LayerNormChannels(3)\n",
    "batch_out = norm_module(batch)\n",
    "print(batch_out.shape)"
   ],
   "outputs": [
    {
     "name": "stdout",
     "output_type": "stream",
     "text": [
      "torch.Size([2, 3, 32, 32])\n"
     ]
    }
   ],
   "execution_count": 23
  },
  {
   "cell_type": "code",
   "id": "bf967b1d",
   "metadata": {
    "collapsed": false,
    "ExecuteTime": {
     "end_time": "2024-05-17T22:43:56.025395Z",
     "start_time": "2024-05-17T22:43:56.021873Z"
    }
   },
   "source": [
    "class ConvNeXtBlock(nn.Module):\n",
    "    def __init__(self, C, conv_kernel_size):\n",
    "        super().__init__()\n",
    "        self.block = nn.Sequential(\n",
    "            nn.LayerNorm(C),\n",
    "            nn.GELU(),\n",
    "            nn.Conv2d(C, C, kernel_size=conv_kernel_size, stride=1, padding=\"same\", groups=C),\n",
    "            nn.GELU(),\n",
    "            nn.Conv2d(C, 4 * C, kernel_size=1, stride=1),\n",
    "            nn.GELU(),\n",
    "            nn.Conv2d(4 * C, C, kernel_size=1, stride=1))\n",
    "\n",
    "    def forward(self, x):\n",
    "        return self.block(x) + x"
   ],
   "outputs": [],
   "execution_count": 24
  },
  {
   "cell_type": "code",
   "id": "474494f7",
   "metadata": {
    "collapsed": false,
    "ExecuteTime": {
     "end_time": "2024-05-17T22:43:56.029080Z",
     "start_time": "2024-05-17T22:43:56.026339Z"
    }
   },
   "source": [
    "class ConvNextDownsample(nn.Module):\n",
    "    def __init__(self, C):\n",
    "        super().__init__()\n",
    "        self.downsample = nn.Conv2d(C, 2 * C, kernel_size=2, stride=2)\n",
    "\n",
    "    def forward(self, x):\n",
    "        return self.downsample(x)"
   ],
   "outputs": [],
   "execution_count": 25
  },
  {
   "cell_type": "code",
   "id": "dde86ca6",
   "metadata": {
    "collapsed": false,
    "ExecuteTime": {
     "end_time": "2024-05-17T22:43:56.036586Z",
     "start_time": "2024-05-17T22:43:56.030394Z"
    }
   },
   "source": [
    "class ConvNeXtStem(nn.Module):\n",
    "    def __init__(self, in_channels=3, D=16, conv_kernel_size=3):\n",
    "        super().__init__()\n",
    "        self.stem = nn.Sequential(\n",
    "            nn.Conv2d(in_channels, D, kernel_size=conv_kernel_size, stride=1, padding=conv_kernel_size//2),\n",
    "            nn.GELU()\n",
    "        )\n",
    "        \n",
    "    def forward(self, x):\n",
    "        return self.stem(x)"
   ],
   "outputs": [],
   "execution_count": 26
  },
  {
   "cell_type": "code",
   "id": "46f448e9",
   "metadata": {
    "collapsed": false,
    "ExecuteTime": {
     "end_time": "2024-05-17T22:43:56.041742Z",
     "start_time": "2024-05-17T22:43:56.038768Z"
    }
   },
   "source": [
    "class ConvNeXtStage(nn.Module):\n",
    "    def __init__(self, C, conv_kernel_size, downsample=True):\n",
    "        super().__init__()\n",
    "        self.stage = nn.Sequential(\n",
    "            ConvNeXtBlock(C, conv_kernel_size),\n",
    "            ConvNeXtBlock(C, conv_kernel_size)\n",
    "        )\n",
    "\n",
    "    def forward(self, x):\n",
    "        return self.stage(x) + x"
   ],
   "outputs": [],
   "execution_count": 27
  },
  {
   "cell_type": "code",
   "id": "6eeb2f05",
   "metadata": {
    "collapsed": false,
    "ExecuteTime": {
     "end_time": "2024-05-17T22:43:56.521557Z",
     "start_time": "2024-05-17T22:43:56.517576Z"
    }
   },
   "source": [
    "class ConvNeXt(nn.Module):\n",
    "    def __init__(self, D=16, conv_kernel_size=3, num_stages=2):\n",
    "        super().__init__()\n",
    "        self.stem = ConvNeXtStem(D=D)\n",
    "        self.stages = nn.ModuleList(\n",
    "            [ConvNeXtStage(D, conv_kernel_size) for _ in range(num_stages)]\n",
    "        )\n",
    "        self.linear = nn.Linear(8192, 10)\n",
    "\n",
    "    def forward(self, x):\n",
    "        x = self.stem(x)\n",
    "        for stage in self.stages:\n",
    "            x = stage(x)\n",
    "        x = x.view(x.size(0), -1)\n",
    "        return self.linear(x)"
   ],
   "outputs": [],
   "execution_count": 28
  },
  {
   "cell_type": "code",
   "id": "4c6f7ebe",
   "metadata": {
    "collapsed": false,
    "ExecuteTime": {
     "end_time": "2024-05-17T22:44:00.013721Z",
     "start_time": "2024-05-17T22:44:00.005154Z"
    }
   },
   "source": [
    "model = ConvNeXt(D=16)\n",
    "print(model)\n",
    "# Should yield:\n",
    "# ConvNeXt(\n",
    "#   (stem): ConvNeXtStem(\n",
    "#     (conv): Conv2d(3, 16, kernel_size=(3, 3), stride=(1, 1), padding=same)\n",
    "#   )\n",
    "#   (stages): ModuleList(\n",
    "#     (0): ConvNeXtStage(\n",
    "#       (stage): Sequential(\n",
    "#         (0): Identity()\n",
    "#         (1): ConvNeXtBlock(\n",
    "#           (conv1): Conv2d(16, 16, kernel_size=(3, 3), stride=(1, 1), padding=same, groups=16)\n",
    "#           (layer_norm): LayerNormChannels(\n",
    "#             (norm): LayerNorm((16,), eps=1e-05, elementwise_affine=True)\n",
    "#           )\n",
    "#           (conv2): Conv2d(16, 64, kernel_size=(1, 1), stride=(1, 1))\n",
    "#           (conv3): Conv2d(64, 16, kernel_size=(1, 1), stride=(1, 1))\n",
    "#         )\n",
    "#         (2): ConvNeXtBlock(\n",
    "#           (conv1): Conv2d(16, 16, kernel_size=(3, 3), stride=(1, 1), padding=same, groups=16)\n",
    "#           (layer_norm): LayerNormChannels(\n",
    "#             (norm): LayerNorm((16,), eps=1e-05, elementwise_affine=True)\n",
    "#           )\n",
    "#           (conv2): Conv2d(16, 64, kernel_size=(1, 1), stride=(1, 1))\n",
    "#           (conv3): Conv2d(64, 16, kernel_size=(1, 1), stride=(1, 1))\n",
    "#         )\n",
    "#       )\n",
    "#     )\n",
    "#     (1): ConvNeXtStage(\n",
    "#       (stage): Sequential(\n",
    "#         (0): ConvNextDownsample(\n",
    "#           (layer_norm): LayerNormChannels(\n",
    "#             (norm): LayerNorm((16,), eps=1e-05, elementwise_affine=True)\n",
    "#           )\n",
    "#           (conv): Conv2d(16, 32, kernel_size=(2, 2), stride=(2, 2))\n",
    "#         )\n",
    "#         (1): ConvNeXtBlock(\n",
    "#           (conv1): Conv2d(32, 32, kernel_size=(3, 3), stride=(1, 1), padding=same, groups=32)\n",
    "#           (layer_norm): LayerNormChannels(\n",
    "#             (norm): LayerNorm((32,), eps=1e-05, elementwise_affine=True)\n",
    "#           )\n",
    "#           (conv2): Conv2d(32, 128, kernel_size=(1, 1), stride=(1, 1))\n",
    "#           (conv3): Conv2d(128, 32, kernel_size=(1, 1), stride=(1, 1))\n",
    "#         )\n",
    "#         (2): ConvNeXtBlock(\n",
    "#           (conv1): Conv2d(32, 32, kernel_size=(3, 3), stride=(1, 1), padding=same, groups=32)\n",
    "#           (layer_norm): LayerNormChannels(\n",
    "#             (norm): LayerNorm((32,), eps=1e-05, elementwise_affine=True)\n",
    "#           )\n",
    "#           (conv2): Conv2d(32, 128, kernel_size=(1, 1), stride=(1, 1))\n",
    "#           (conv3): Conv2d(128, 32, kernel_size=(1, 1), stride=(1, 1))\n",
    "#         )\n",
    "#       )\n",
    "#     )\n",
    "#   )\n",
    "#   (linear): Linear(in_features=8192, out_features=10, bias=True)\n",
    "# )"
   ],
   "outputs": [
    {
     "name": "stdout",
     "output_type": "stream",
     "text": [
      "ConvNeXt(\n",
      "  (stem): ConvNeXtStem(\n",
      "    (stem): Sequential(\n",
      "      (0): Conv2d(3, 16, kernel_size=(3, 3), stride=(1, 1), padding=(1, 1))\n",
      "      (1): GELU(approximate='none')\n",
      "    )\n",
      "  )\n",
      "  (stages): ModuleList(\n",
      "    (0-1): 2 x ConvNeXtStage(\n",
      "      (stage): Sequential(\n",
      "        (0): ConvNeXtBlock(\n",
      "          (block): Sequential(\n",
      "            (0): LayerNorm((16,), eps=1e-05, elementwise_affine=True)\n",
      "            (1): GELU(approximate='none')\n",
      "            (2): Conv2d(16, 16, kernel_size=(3, 3), stride=(1, 1), padding=same, groups=16)\n",
      "            (3): GELU(approximate='none')\n",
      "            (4): Conv2d(16, 64, kernel_size=(1, 1), stride=(1, 1))\n",
      "            (5): GELU(approximate='none')\n",
      "            (6): Conv2d(64, 16, kernel_size=(1, 1), stride=(1, 1))\n",
      "          )\n",
      "        )\n",
      "        (1): ConvNeXtBlock(\n",
      "          (block): Sequential(\n",
      "            (0): LayerNorm((16,), eps=1e-05, elementwise_affine=True)\n",
      "            (1): GELU(approximate='none')\n",
      "            (2): Conv2d(16, 16, kernel_size=(3, 3), stride=(1, 1), padding=same, groups=16)\n",
      "            (3): GELU(approximate='none')\n",
      "            (4): Conv2d(16, 64, kernel_size=(1, 1), stride=(1, 1))\n",
      "            (5): GELU(approximate='none')\n",
      "            (6): Conv2d(64, 16, kernel_size=(1, 1), stride=(1, 1))\n",
      "          )\n",
      "        )\n",
      "      )\n",
      "    )\n",
      "  )\n",
      "  (linear): Linear(in_features=8192, out_features=10, bias=True)\n",
      ")\n"
     ]
    }
   ],
   "execution_count": 29
  },
  {
   "cell_type": "code",
   "id": "4a391a2d",
   "metadata": {
    "collapsed": false,
    "ExecuteTime": {
     "end_time": "2024-05-17T22:16:53.844301Z",
     "start_time": "2024-05-17T22:16:53.690791Z"
    }
   },
   "source": [
    "batch = torch.randn(2, 3, 32, 32)\n",
    "batch_out = model(batch)\n",
    "print(batch_out.shape)\n",
    "\n",
    "\n",
    "# Should yield:\n",
    "# torch.Size([2, 10])"
   ],
   "outputs": [
    {
     "ename": "AttributeError",
     "evalue": "'NoneType' object has no attribute 'shape'",
     "output_type": "error",
     "traceback": [
      "\u001B[0;31m---------------------------------------------------------------------------\u001B[0m",
      "\u001B[0;31mAttributeError\u001B[0m                            Traceback (most recent call last)",
      "Cell \u001B[0;32mIn[27], line 3\u001B[0m\n\u001B[1;32m      1\u001B[0m batch \u001B[38;5;241m=\u001B[39m torch\u001B[38;5;241m.\u001B[39mrandn(\u001B[38;5;241m2\u001B[39m, \u001B[38;5;241m3\u001B[39m, \u001B[38;5;241m32\u001B[39m, \u001B[38;5;241m32\u001B[39m)\n\u001B[1;32m      2\u001B[0m batch_out \u001B[38;5;241m=\u001B[39m model(batch)\n\u001B[0;32m----> 3\u001B[0m \u001B[38;5;28mprint\u001B[39m(\u001B[43mbatch_out\u001B[49m\u001B[38;5;241;43m.\u001B[39;49m\u001B[43mshape\u001B[49m)\n\u001B[1;32m      6\u001B[0m \u001B[38;5;66;03m# Should yield:\u001B[39;00m\n\u001B[1;32m      7\u001B[0m \u001B[38;5;66;03m# torch.Size([2, 10])\u001B[39;00m\n",
      "\u001B[0;31mAttributeError\u001B[0m: 'NoneType' object has no attribute 'shape'"
     ]
    }
   ],
   "execution_count": 27
  },
  {
   "cell_type": "code",
   "id": "106c7941",
   "metadata": {
    "collapsed": false
   },
   "source": [
    "class LitConvNeXt(LitBaseCNN):\n",
    "    def initialize_model(self, C, conv_kernel_size, num_stages):\n",
    "        return ConvNeXt(\n",
    "            C,\n",
    "            conv_kernel_size,\n",
    "            num_stages,\n",
    "        )"
   ],
   "outputs": [],
   "execution_count": null
  },
  {
   "cell_type": "code",
   "id": "c0666710",
   "metadata": {
    "collapsed": false
   },
   "source": [
    "model_hp = dict(\n",
    "    lr=0.001,\n",
    "    C=16,\n",
    "    conv_kernel_size=7,\n",
    "    num_stages=4,\n",
    ")\n",
    "\n",
    "lit_convnext = LitConvNeXt(**model_hp)\n",
    "\n",
    "other_hp = dict(\n",
    "    batch_size=32,\n",
    "    max_epochs=5,\n",
    ")\n",
    "\n",
    "dm = CifarDataModule(batch_size=other_hp[\"batch_size\"])\n",
    "\n",
    "logger = TensorBoardLogger(\n",
    "    save_dir=\"logs\", name=\"convnext\"\n",
    ")  # do not change directory in JHub\n",
    "logger.log_hyperparams({**model_hp, **other_hp})\n",
    "\n",
    "trainer = L.Trainer(\n",
    "    deterministic=True,\n",
    "    fast_dev_run=False,\n",
    "    max_epochs=other_hp[\"max_epochs\"],\n",
    "    logger=logger,\n",
    "    check_val_every_n_epoch=1,\n",
    ")\n",
    "trainer.fit(lit_convnext, datamodule=dm)"
   ],
   "outputs": [],
   "execution_count": null
  },
  {
   "cell_type": "code",
   "id": "71c903a9",
   "metadata": {
    "collapsed": false
   },
   "source": [
    "trainer.test(lit_convnext, datamodule=dm)\n",
    "# Should reach a bit less than 70% accuracy"
   ],
   "outputs": [],
   "execution_count": null
  }
 ],
 "metadata": {
  "kernelspec": {
   "name": "python3",
   "language": "python",
   "display_name": "Python 3 (ipykernel)"
  }
 },
 "nbformat": 4,
 "nbformat_minor": 5
}
